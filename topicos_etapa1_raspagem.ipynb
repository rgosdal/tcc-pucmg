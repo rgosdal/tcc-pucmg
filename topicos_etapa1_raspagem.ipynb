{
 "cells": [
  {
   "cell_type": "markdown",
   "metadata": {},
   "source": [
    "# Raspagem de documentos via Web\n",
    "### Obtenção dos dados textuais dos documentos da Rede Social do Café"
   ]
  },
  {
   "cell_type": "markdown",
   "metadata": {},
   "source": [
    "## Bibliotecas utilizadas"
   ]
  },
  {
   "cell_type": "code",
   "execution_count": 2,
   "metadata": {},
   "outputs": [],
   "source": [
    "import urllib3\n",
    "import ssl\n",
    "import requests\n",
    "from requests.adapters import HTTPAdapter\n",
    "from urllib3.util.retry import Retry\n",
    "from urllib3 import Timeout\n",
    "\n",
    "import bs4\n",
    "from bs4 import BeautifulSoup\n",
    "\n",
    "import csv\n",
    "import logging\n",
    "import json\n",
    "import unicodedata\n",
    "import os\n",
    "import re\n",
    "\n",
    "import numpy as np\n",
    "import matplotlib.pyplot as plt"
   ]
  },
  {
   "cell_type": "markdown",
   "metadata": {},
   "source": [
    "## Obtém o texto de cada documento  do fórum pelo seu ID, via biblioteca Beautiful Soup\n",
    "Obs: acesso não autenticado, documentos de comentários não foram coletados"
   ]
  },
  {
   "cell_type": "code",
   "execution_count": 8,
   "metadata": {},
   "outputs": [],
   "source": [
    "def get_documento_texto_por_id(id):\n",
    "    try:\n",
    "        headers = {\n",
    "        'Upgrade-Insecure-Requests': '1',\n",
    "        'User-Agent': 'Mozilla/5.0 (Macintosh; Intel Mac OS X 10_14_2) AppleWebKit/537.36 (KHTML, like Gecko) '\n",
    "                      'Chrome/72.0.3626.119 Safari/537.36',\n",
    "        'DNT': '1'\n",
    "        }\n",
    "        # Obtem texto de um documento específico\n",
    "        url = 'http://www.redepeabirus.com.br/redes/form/post?topico_id=' + str(id)\n",
    "        print(url)\n",
    "        response = session.get(url , headers=headers, verify=False)\n",
    "        soup = bs4.BeautifulSoup(response.text, \"html.parser\")\n",
    "        # Identifica escopo do documento (1a ocorencia, comentários adicionais não foram considerados)\n",
    "        elements = soup.find(\"div\", {'class':'defPost'})\n",
    "        if \"Não foi possível obter a página\" in elements.text:\n",
    "            # se mensagem de insucesso\n",
    "            return False\n",
    "        else:\n",
    "            content = elements.text\n",
    "            #print(content)\n",
    "            return content\n",
    "    except Exception as err:\n",
    "       print(err) \n"
   ]
  },
  {
   "cell_type": "markdown",
   "metadata": {},
   "source": [
    "## Obtém o conjunto de documentos específicados por uma lista de Ids"
   ]
  },
  {
   "cell_type": "code",
   "execution_count": 9,
   "metadata": {
    "scrolled": true
   },
   "outputs": [],
   "source": [
    "#Obtém o conjunto de documentos específicados\n",
    "def raspa_documentos_lista(lista_documentos):\n",
    "\n",
    "    for documento_id in lista_documentos:\n",
    "\n",
    "        documento_id_str = str(documento_id)\n",
    "        documento = get_documento_texto_por_id(documento_id)\n",
    "\n",
    "        if documento:\n",
    "            documento_lines = documento.splitlines()\n",
    "\n",
    "            # Obtém a primeira linha após linhas em branco para extração da data e hora de publicação\n",
    "            \n",
    "            for line in documento_lines:\n",
    "                if not line.strip():\n",
    "                        continue\n",
    "                else:\n",
    "                        primeira_linha = line\n",
    "                        break\n",
    "            # Faz o parsing da data e hora para compor o nome do arquivo\n",
    "            match = re.match(r'''\n",
    "    .+\n",
    "    (\n",
    "    (\\d{2})\\/(\\d{2})\\/(\\d{4})\n",
    "    \\s+?\n",
    "    (\\d{2})\\:(\\d{2})\n",
    "    )\n",
    "    .*  \n",
    "    ''', primeira_linha, re.VERBOSE)\n",
    "            filepath = '../data/raspagem/' + 'rsc_scraping_' + match[4] + '_' + match[3] + '_' + match[2] + '_' + match[5] + 'h' + match[6] + '_id_' + documento_id_str + '.txt'\n",
    "            f = open(filepath, \"w\", encoding='utf-8' )\n",
    "            logokf = open('../log/scrapping_ok.log', \"a+\", encoding='utf-8' )\n",
    "            logokf.write(documento_id_str + '\\n')\n",
    "            print (\"Documento Id: \" +  documento_id_str)\n",
    "            print('Gravado em:' + filepath)\n",
    "            f.write(documento)\n",
    "            f.close()\n",
    "            logokf.close()\n",
    "        else:\n",
    "            print (\"Documento inexistente: \" +  documento_id_str)\n",
    "            logfailf = open('../log/scrapping_failure.log', \"a+\", encoding='utf-8' )\n",
    "            logfailf.write(documento_id_str + '\\n')\n",
    "            logfailf.close()\n"
   ]
  },
  {
   "cell_type": "markdown",
   "metadata": {},
   "source": [
    "## Início da execução"
   ]
  },
  {
   "cell_type": "markdown",
   "metadata": {},
   "source": [
    "## Cria sessão para requisições http"
   ]
  },
  {
   "cell_type": "code",
   "execution_count": 3,
   "metadata": {},
   "outputs": [],
   "source": [
    "# Como a velocidde de obtenção dos documentos era reativamente lenta,, e eventualmente ocorrima erros da aplicação devidos \n",
    "# ao tempo de # resposta, oram utilizadas algumas técnicas para contorno\n",
    "# ver https://stackoverflow.com/questions/23267409/how-to-implement-retry-mechanism-into-python-requests-library\n",
    "# e https://www.peterbe.com/plog/best-practice-with-retries-with-requests\n",
    "\n",
    "MAX_RETRY = 2\n",
    "MAX_RETRY_FOR_SESSION = 4\n",
    "BACK_OFF_FACTOR = 0.5\n",
    "ERROR_CODES = (500, 502, 504)\n",
    "\n",
    "def requests_retry_session(retries=MAX_RETRY_FOR_SESSION,\n",
    "    back_off_factor=BACK_OFF_FACTOR,\n",
    "    status_force_list=ERROR_CODES, \n",
    "    session=None):\n",
    "    session = session\n",
    "    retry = Retry(total=retries, read=retries, connect=retries,\n",
    "                 backoff_factor=back_off_factor,\n",
    "                 status_forcelist=status_force_list,\n",
    "                 method_whitelist=frozenset(['GET', 'POST']))\n",
    "    adapter = HTTPAdapter(max_retries=retry)\n",
    "    session.mount('http://', adapter)\n",
    "    session.mount('https://', adapter)\n",
    "    return session\n",
    "\n",
    "\n",
    "# Cria sessão de requisições http\n",
    "\n",
    "session = requests_retry_session(session=requests.Session())"
   ]
  },
  {
   "cell_type": "markdown",
   "metadata": {},
   "source": [
    "## Processa um range dos documentos desejados"
   ]
  },
  {
   "cell_type": "code",
   "execution_count": 13,
   "metadata": {},
   "outputs": [
    {
     "name": "stdout",
     "output_type": "stream",
     "text": [
      "http://www.redepeabirus.com.br/redes/form/post?topico_id=89625\n",
      "Documento Id: 89625\n",
      "Gravado em:../data/scraping-3/rsc_scraping_2021_03_07_06h32_id_89625.txt\n",
      "http://www.redepeabirus.com.br/redes/form/post?topico_id=89624\n",
      "Documento Id: 89624\n",
      "Gravado em:../data/scraping-3/rsc_scraping_2021_03_07_06h29_id_89624.txt\n",
      "http://www.redepeabirus.com.br/redes/form/post?topico_id=89623\n",
      "Documento Id: 89623\n",
      "Gravado em:../data/scraping-3/rsc_scraping_2021_03_07_06h21_id_89623.txt\n",
      "http://www.redepeabirus.com.br/redes/form/post?topico_id=89622\n",
      "Documento Id: 89622\n",
      "Gravado em:../data/scraping-3/rsc_scraping_2021_03_07_06h14_id_89622.txt\n",
      "http://www.redepeabirus.com.br/redes/form/post?topico_id=89621\n",
      "Documento Id: 89621\n",
      "Gravado em:../data/scraping-3/rsc_scraping_2021_03_05_13h04_id_89621.txt\n",
      "http://www.redepeabirus.com.br/redes/form/post?topico_id=89620\n",
      "Documento Id: 89620\n",
      "Gravado em:../data/scraping-3/rsc_scraping_2021_03_05_11h21_id_89620.txt\n",
      "http://www.redepeabirus.com.br/redes/form/post?topico_id=89619\n",
      "Documento Id: 89619\n",
      "Gravado em:../data/scraping-3/rsc_scraping_2021_03_05_11h00_id_89619.txt\n",
      "http://www.redepeabirus.com.br/redes/form/post?topico_id=89618\n",
      "Documento Id: 89618\n",
      "Gravado em:../data/scraping-3/rsc_scraping_2021_03_05_10h48_id_89618.txt\n",
      "http://www.redepeabirus.com.br/redes/form/post?topico_id=89617\n",
      "Documento Id: 89617\n",
      "Gravado em:../data/scraping-3/rsc_scraping_2021_03_05_10h36_id_89617.txt\n",
      "http://www.redepeabirus.com.br/redes/form/post?topico_id=89616\n",
      "Documento Id: 89616\n",
      "Gravado em:../data/scraping-3/rsc_scraping_2021_03_05_10h30_id_89616.txt\n",
      "http://www.redepeabirus.com.br/redes/form/post?topico_id=89615\n",
      "Documento Id: 89615\n",
      "Gravado em:../data/scraping-3/rsc_scraping_2021_03_05_10h27_id_89615.txt\n",
      "http://www.redepeabirus.com.br/redes/form/post?topico_id=89614\n",
      "Documento Id: 89614\n",
      "Gravado em:../data/scraping-3/rsc_scraping_2021_03_05_10h22_id_89614.txt\n",
      "http://www.redepeabirus.com.br/redes/form/post?topico_id=89613\n",
      "Documento Id: 89613\n",
      "Gravado em:../data/scraping-3/rsc_scraping_2021_03_05_10h20_id_89613.txt\n",
      "http://www.redepeabirus.com.br/redes/form/post?topico_id=89612\n",
      "Documento Id: 89612\n",
      "Gravado em:../data/scraping-3/rsc_scraping_2021_03_05_10h17_id_89612.txt\n",
      "http://www.redepeabirus.com.br/redes/form/post?topico_id=89611\n",
      "Documento Id: 89611\n",
      "Gravado em:../data/scraping-3/rsc_scraping_2021_03_05_09h54_id_89611.txt\n",
      "http://www.redepeabirus.com.br/redes/form/post?topico_id=89610\n",
      "Documento Id: 89610\n",
      "Gravado em:../data/scraping-3/rsc_scraping_2021_03_04_17h29_id_89610.txt\n",
      "http://www.redepeabirus.com.br/redes/form/post?topico_id=89609\n",
      "Documento Id: 89609\n",
      "Gravado em:../data/scraping-3/rsc_scraping_2021_03_04_17h24_id_89609.txt\n",
      "http://www.redepeabirus.com.br/redes/form/post?topico_id=89608\n",
      "Documento Id: 89608\n",
      "Gravado em:../data/scraping-3/rsc_scraping_2021_03_04_16h27_id_89608.txt\n",
      "http://www.redepeabirus.com.br/redes/form/post?topico_id=89607\n",
      "Documento Id: 89607\n",
      "Gravado em:../data/scraping-3/rsc_scraping_2021_03_04_16h19_id_89607.txt\n",
      "http://www.redepeabirus.com.br/redes/form/post?topico_id=89606\n",
      "Documento Id: 89606\n",
      "Gravado em:../data/scraping-3/rsc_scraping_2021_03_04_16h12_id_89606.txt\n",
      "http://www.redepeabirus.com.br/redes/form/post?topico_id=89605\n",
      "Documento Id: 89605\n",
      "Gravado em:../data/scraping-3/rsc_scraping_2021_03_04_16h08_id_89605.txt\n",
      "http://www.redepeabirus.com.br/redes/form/post?topico_id=89604\n",
      "Documento Id: 89604\n",
      "Gravado em:../data/scraping-3/rsc_scraping_2021_03_04_16h04_id_89604.txt\n",
      "http://www.redepeabirus.com.br/redes/form/post?topico_id=89603\n",
      "Documento Id: 89603\n",
      "Gravado em:../data/scraping-3/rsc_scraping_2021_03_04_16h00_id_89603.txt\n",
      "http://www.redepeabirus.com.br/redes/form/post?topico_id=89602\n",
      "Documento Id: 89602\n",
      "Gravado em:../data/scraping-3/rsc_scraping_2021_03_04_15h27_id_89602.txt\n",
      "http://www.redepeabirus.com.br/redes/form/post?topico_id=89601\n",
      "Documento Id: 89601\n",
      "Gravado em:../data/scraping-3/rsc_scraping_2021_03_04_14h44_id_89601.txt\n",
      "http://www.redepeabirus.com.br/redes/form/post?topico_id=89600\n",
      "Documento Id: 89600\n",
      "Gravado em:../data/scraping-3/rsc_scraping_2021_03_04_11h18_id_89600.txt\n",
      "http://www.redepeabirus.com.br/redes/form/post?topico_id=89599\n",
      "Documento Id: 89599\n",
      "Gravado em:../data/scraping-3/rsc_scraping_2021_03_04_11h01_id_89599.txt\n",
      "http://www.redepeabirus.com.br/redes/form/post?topico_id=89598\n",
      "Documento Id: 89598\n",
      "Gravado em:../data/scraping-3/rsc_scraping_2021_03_04_10h56_id_89598.txt\n",
      "http://www.redepeabirus.com.br/redes/form/post?topico_id=89597\n"
     ]
    },
    {
     "ename": "KeyboardInterrupt",
     "evalue": "",
     "output_type": "error",
     "traceback": [
      "\u001b[1;31m---------------------------------------------------------------------------\u001b[0m",
      "\u001b[1;31mKeyboardInterrupt\u001b[0m                         Traceback (most recent call last)",
      "\u001b[1;32m<ipython-input-13-8d5e3e2102d5>\u001b[0m in \u001b[0;36m<module>\u001b[1;34m\u001b[0m\n\u001b[0;32m      2\u001b[0m \u001b[1;33m\u001b[0m\u001b[0m\n\u001b[0;32m      3\u001b[0m \u001b[0mlista_id_documentos\u001b[0m \u001b[1;33m=\u001b[0m \u001b[0mrange\u001b[0m\u001b[1;33m(\u001b[0m\u001b[1;36m89625\u001b[0m\u001b[1;33m,\u001b[0m\u001b[1;36m57630\u001b[0m\u001b[1;33m,\u001b[0m\u001b[1;33m-\u001b[0m\u001b[1;36m1\u001b[0m\u001b[1;33m)\u001b[0m\u001b[1;33m\u001b[0m\u001b[1;33m\u001b[0m\u001b[0m\n\u001b[1;32m----> 4\u001b[1;33m \u001b[0mraspa_documentos_lista\u001b[0m\u001b[1;33m(\u001b[0m\u001b[0mlista_id_documentos\u001b[0m\u001b[1;33m)\u001b[0m\u001b[1;33m\u001b[0m\u001b[1;33m\u001b[0m\u001b[0m\n\u001b[0m",
      "\u001b[1;32m<ipython-input-9-8604e5ec66e9>\u001b[0m in \u001b[0;36mraspa_documentos_lista\u001b[1;34m(lista_documentos)\u001b[0m\n\u001b[0;32m      5\u001b[0m \u001b[1;33m\u001b[0m\u001b[0m\n\u001b[0;32m      6\u001b[0m         \u001b[0mdocumento_id_str\u001b[0m \u001b[1;33m=\u001b[0m \u001b[0mstr\u001b[0m\u001b[1;33m(\u001b[0m\u001b[0mdocumento_id\u001b[0m\u001b[1;33m)\u001b[0m\u001b[1;33m\u001b[0m\u001b[1;33m\u001b[0m\u001b[0m\n\u001b[1;32m----> 7\u001b[1;33m         \u001b[0mdocumento\u001b[0m \u001b[1;33m=\u001b[0m \u001b[0mget_documento_texto_por_id\u001b[0m\u001b[1;33m(\u001b[0m\u001b[0mdocumento_id\u001b[0m\u001b[1;33m)\u001b[0m\u001b[1;33m\u001b[0m\u001b[1;33m\u001b[0m\u001b[0m\n\u001b[0m\u001b[0;32m      8\u001b[0m \u001b[1;33m\u001b[0m\u001b[0m\n\u001b[0;32m      9\u001b[0m         \u001b[1;32mif\u001b[0m \u001b[0mdocumento\u001b[0m\u001b[1;33m:\u001b[0m\u001b[1;33m\u001b[0m\u001b[1;33m\u001b[0m\u001b[0m\n",
      "\u001b[1;32m<ipython-input-7-7861744b0e66>\u001b[0m in \u001b[0;36mget_documento_texto_por_id\u001b[1;34m(id)\u001b[0m\n\u001b[0;32m     10\u001b[0m         \u001b[0murl\u001b[0m \u001b[1;33m=\u001b[0m \u001b[1;34m'http://www.redepeabirus.com.br/redes/form/post?topico_id='\u001b[0m \u001b[1;33m+\u001b[0m \u001b[0mstr\u001b[0m\u001b[1;33m(\u001b[0m\u001b[0mid\u001b[0m\u001b[1;33m)\u001b[0m\u001b[1;33m\u001b[0m\u001b[1;33m\u001b[0m\u001b[0m\n\u001b[0;32m     11\u001b[0m         \u001b[0mprint\u001b[0m\u001b[1;33m(\u001b[0m\u001b[0murl\u001b[0m\u001b[1;33m)\u001b[0m\u001b[1;33m\u001b[0m\u001b[1;33m\u001b[0m\u001b[0m\n\u001b[1;32m---> 12\u001b[1;33m         \u001b[0mresponse\u001b[0m \u001b[1;33m=\u001b[0m \u001b[0msession\u001b[0m\u001b[1;33m.\u001b[0m\u001b[0mget\u001b[0m\u001b[1;33m(\u001b[0m\u001b[0murl\u001b[0m \u001b[1;33m,\u001b[0m \u001b[0mheaders\u001b[0m\u001b[1;33m=\u001b[0m\u001b[0mheaders\u001b[0m\u001b[1;33m,\u001b[0m \u001b[0mverify\u001b[0m\u001b[1;33m=\u001b[0m\u001b[1;32mFalse\u001b[0m\u001b[1;33m)\u001b[0m\u001b[1;33m\u001b[0m\u001b[1;33m\u001b[0m\u001b[0m\n\u001b[0m\u001b[0;32m     13\u001b[0m         \u001b[0msoup\u001b[0m \u001b[1;33m=\u001b[0m \u001b[0mbs4\u001b[0m\u001b[1;33m.\u001b[0m\u001b[0mBeautifulSoup\u001b[0m\u001b[1;33m(\u001b[0m\u001b[0mresponse\u001b[0m\u001b[1;33m.\u001b[0m\u001b[0mtext\u001b[0m\u001b[1;33m,\u001b[0m \u001b[1;34m\"html.parser\"\u001b[0m\u001b[1;33m)\u001b[0m\u001b[1;33m\u001b[0m\u001b[1;33m\u001b[0m\u001b[0m\n\u001b[0;32m     14\u001b[0m         \u001b[0mstatus\u001b[0m \u001b[1;33m=\u001b[0m \u001b[0msoup\u001b[0m\u001b[1;33m.\u001b[0m\u001b[0mfind\u001b[0m\u001b[1;33m(\u001b[0m\u001b[1;34m\"div\"\u001b[0m\u001b[1;33m,\u001b[0m \u001b[1;33m{\u001b[0m\u001b[1;34m'class'\u001b[0m\u001b[1;33m:\u001b[0m\u001b[1;34m'colA'\u001b[0m\u001b[1;33m}\u001b[0m\u001b[1;33m)\u001b[0m\u001b[1;33m\u001b[0m\u001b[1;33m\u001b[0m\u001b[0m\n",
      "\u001b[1;32m~\\anaconda3\\lib\\site-packages\\requests\\sessions.py\u001b[0m in \u001b[0;36mget\u001b[1;34m(self, url, **kwargs)\u001b[0m\n\u001b[0;32m    541\u001b[0m \u001b[1;33m\u001b[0m\u001b[0m\n\u001b[0;32m    542\u001b[0m         \u001b[0mkwargs\u001b[0m\u001b[1;33m.\u001b[0m\u001b[0msetdefault\u001b[0m\u001b[1;33m(\u001b[0m\u001b[1;34m'allow_redirects'\u001b[0m\u001b[1;33m,\u001b[0m \u001b[1;32mTrue\u001b[0m\u001b[1;33m)\u001b[0m\u001b[1;33m\u001b[0m\u001b[1;33m\u001b[0m\u001b[0m\n\u001b[1;32m--> 543\u001b[1;33m         \u001b[1;32mreturn\u001b[0m \u001b[0mself\u001b[0m\u001b[1;33m.\u001b[0m\u001b[0mrequest\u001b[0m\u001b[1;33m(\u001b[0m\u001b[1;34m'GET'\u001b[0m\u001b[1;33m,\u001b[0m \u001b[0murl\u001b[0m\u001b[1;33m,\u001b[0m \u001b[1;33m**\u001b[0m\u001b[0mkwargs\u001b[0m\u001b[1;33m)\u001b[0m\u001b[1;33m\u001b[0m\u001b[1;33m\u001b[0m\u001b[0m\n\u001b[0m\u001b[0;32m    544\u001b[0m \u001b[1;33m\u001b[0m\u001b[0m\n\u001b[0;32m    545\u001b[0m     \u001b[1;32mdef\u001b[0m \u001b[0moptions\u001b[0m\u001b[1;33m(\u001b[0m\u001b[0mself\u001b[0m\u001b[1;33m,\u001b[0m \u001b[0murl\u001b[0m\u001b[1;33m,\u001b[0m \u001b[1;33m**\u001b[0m\u001b[0mkwargs\u001b[0m\u001b[1;33m)\u001b[0m\u001b[1;33m:\u001b[0m\u001b[1;33m\u001b[0m\u001b[1;33m\u001b[0m\u001b[0m\n",
      "\u001b[1;32m~\\anaconda3\\lib\\site-packages\\requests\\sessions.py\u001b[0m in \u001b[0;36mrequest\u001b[1;34m(self, method, url, params, data, headers, cookies, files, auth, timeout, allow_redirects, proxies, hooks, stream, verify, cert, json)\u001b[0m\n\u001b[0;32m    528\u001b[0m         }\n\u001b[0;32m    529\u001b[0m         \u001b[0msend_kwargs\u001b[0m\u001b[1;33m.\u001b[0m\u001b[0mupdate\u001b[0m\u001b[1;33m(\u001b[0m\u001b[0msettings\u001b[0m\u001b[1;33m)\u001b[0m\u001b[1;33m\u001b[0m\u001b[1;33m\u001b[0m\u001b[0m\n\u001b[1;32m--> 530\u001b[1;33m         \u001b[0mresp\u001b[0m \u001b[1;33m=\u001b[0m \u001b[0mself\u001b[0m\u001b[1;33m.\u001b[0m\u001b[0msend\u001b[0m\u001b[1;33m(\u001b[0m\u001b[0mprep\u001b[0m\u001b[1;33m,\u001b[0m \u001b[1;33m**\u001b[0m\u001b[0msend_kwargs\u001b[0m\u001b[1;33m)\u001b[0m\u001b[1;33m\u001b[0m\u001b[1;33m\u001b[0m\u001b[0m\n\u001b[0m\u001b[0;32m    531\u001b[0m \u001b[1;33m\u001b[0m\u001b[0m\n\u001b[0;32m    532\u001b[0m         \u001b[1;32mreturn\u001b[0m \u001b[0mresp\u001b[0m\u001b[1;33m\u001b[0m\u001b[1;33m\u001b[0m\u001b[0m\n",
      "\u001b[1;32m~\\anaconda3\\lib\\site-packages\\requests\\sessions.py\u001b[0m in \u001b[0;36msend\u001b[1;34m(self, request, **kwargs)\u001b[0m\n\u001b[0;32m    641\u001b[0m \u001b[1;33m\u001b[0m\u001b[0m\n\u001b[0;32m    642\u001b[0m         \u001b[1;31m# Send the request\u001b[0m\u001b[1;33m\u001b[0m\u001b[1;33m\u001b[0m\u001b[1;33m\u001b[0m\u001b[0m\n\u001b[1;32m--> 643\u001b[1;33m         \u001b[0mr\u001b[0m \u001b[1;33m=\u001b[0m \u001b[0madapter\u001b[0m\u001b[1;33m.\u001b[0m\u001b[0msend\u001b[0m\u001b[1;33m(\u001b[0m\u001b[0mrequest\u001b[0m\u001b[1;33m,\u001b[0m \u001b[1;33m**\u001b[0m\u001b[0mkwargs\u001b[0m\u001b[1;33m)\u001b[0m\u001b[1;33m\u001b[0m\u001b[1;33m\u001b[0m\u001b[0m\n\u001b[0m\u001b[0;32m    644\u001b[0m \u001b[1;33m\u001b[0m\u001b[0m\n\u001b[0;32m    645\u001b[0m         \u001b[1;31m# Total elapsed time of the request (approximately)\u001b[0m\u001b[1;33m\u001b[0m\u001b[1;33m\u001b[0m\u001b[1;33m\u001b[0m\u001b[0m\n",
      "\u001b[1;32m~\\anaconda3\\lib\\site-packages\\requests\\adapters.py\u001b[0m in \u001b[0;36msend\u001b[1;34m(self, request, stream, timeout, verify, cert, proxies)\u001b[0m\n\u001b[0;32m    437\u001b[0m         \u001b[1;32mtry\u001b[0m\u001b[1;33m:\u001b[0m\u001b[1;33m\u001b[0m\u001b[1;33m\u001b[0m\u001b[0m\n\u001b[0;32m    438\u001b[0m             \u001b[1;32mif\u001b[0m \u001b[1;32mnot\u001b[0m \u001b[0mchunked\u001b[0m\u001b[1;33m:\u001b[0m\u001b[1;33m\u001b[0m\u001b[1;33m\u001b[0m\u001b[0m\n\u001b[1;32m--> 439\u001b[1;33m                 resp = conn.urlopen(\n\u001b[0m\u001b[0;32m    440\u001b[0m                     \u001b[0mmethod\u001b[0m\u001b[1;33m=\u001b[0m\u001b[0mrequest\u001b[0m\u001b[1;33m.\u001b[0m\u001b[0mmethod\u001b[0m\u001b[1;33m,\u001b[0m\u001b[1;33m\u001b[0m\u001b[1;33m\u001b[0m\u001b[0m\n\u001b[0;32m    441\u001b[0m                     \u001b[0murl\u001b[0m\u001b[1;33m=\u001b[0m\u001b[0murl\u001b[0m\u001b[1;33m,\u001b[0m\u001b[1;33m\u001b[0m\u001b[1;33m\u001b[0m\u001b[0m\n",
      "\u001b[1;32m~\\anaconda3\\lib\\site-packages\\urllib3\\connectionpool.py\u001b[0m in \u001b[0;36murlopen\u001b[1;34m(self, method, url, body, headers, retries, redirect, assert_same_host, timeout, pool_timeout, release_conn, chunked, body_pos, **response_kw)\u001b[0m\n\u001b[0;32m    668\u001b[0m \u001b[1;33m\u001b[0m\u001b[0m\n\u001b[0;32m    669\u001b[0m             \u001b[1;31m# Make the request on the httplib connection object.\u001b[0m\u001b[1;33m\u001b[0m\u001b[1;33m\u001b[0m\u001b[1;33m\u001b[0m\u001b[0m\n\u001b[1;32m--> 670\u001b[1;33m             httplib_response = self._make_request(\n\u001b[0m\u001b[0;32m    671\u001b[0m                 \u001b[0mconn\u001b[0m\u001b[1;33m,\u001b[0m\u001b[1;33m\u001b[0m\u001b[1;33m\u001b[0m\u001b[0m\n\u001b[0;32m    672\u001b[0m                 \u001b[0mmethod\u001b[0m\u001b[1;33m,\u001b[0m\u001b[1;33m\u001b[0m\u001b[1;33m\u001b[0m\u001b[0m\n",
      "\u001b[1;32m~\\anaconda3\\lib\\site-packages\\urllib3\\connectionpool.py\u001b[0m in \u001b[0;36m_make_request\u001b[1;34m(self, conn, method, url, timeout, chunked, **httplib_request_kw)\u001b[0m\n\u001b[0;32m    390\u001b[0m             \u001b[0mconn\u001b[0m\u001b[1;33m.\u001b[0m\u001b[0mrequest_chunked\u001b[0m\u001b[1;33m(\u001b[0m\u001b[0mmethod\u001b[0m\u001b[1;33m,\u001b[0m \u001b[0murl\u001b[0m\u001b[1;33m,\u001b[0m \u001b[1;33m**\u001b[0m\u001b[0mhttplib_request_kw\u001b[0m\u001b[1;33m)\u001b[0m\u001b[1;33m\u001b[0m\u001b[1;33m\u001b[0m\u001b[0m\n\u001b[0;32m    391\u001b[0m         \u001b[1;32melse\u001b[0m\u001b[1;33m:\u001b[0m\u001b[1;33m\u001b[0m\u001b[1;33m\u001b[0m\u001b[0m\n\u001b[1;32m--> 392\u001b[1;33m             \u001b[0mconn\u001b[0m\u001b[1;33m.\u001b[0m\u001b[0mrequest\u001b[0m\u001b[1;33m(\u001b[0m\u001b[0mmethod\u001b[0m\u001b[1;33m,\u001b[0m \u001b[0murl\u001b[0m\u001b[1;33m,\u001b[0m \u001b[1;33m**\u001b[0m\u001b[0mhttplib_request_kw\u001b[0m\u001b[1;33m)\u001b[0m\u001b[1;33m\u001b[0m\u001b[1;33m\u001b[0m\u001b[0m\n\u001b[0m\u001b[0;32m    393\u001b[0m \u001b[1;33m\u001b[0m\u001b[0m\n\u001b[0;32m    394\u001b[0m         \u001b[1;31m# Reset the timeout for the recv() on the socket\u001b[0m\u001b[1;33m\u001b[0m\u001b[1;33m\u001b[0m\u001b[1;33m\u001b[0m\u001b[0m\n",
      "\u001b[1;32m~\\anaconda3\\lib\\http\\client.py\u001b[0m in \u001b[0;36mrequest\u001b[1;34m(self, method, url, body, headers, encode_chunked)\u001b[0m\n\u001b[0;32m   1253\u001b[0m                 encode_chunked=False):\n\u001b[0;32m   1254\u001b[0m         \u001b[1;34m\"\"\"Send a complete request to the server.\"\"\"\u001b[0m\u001b[1;33m\u001b[0m\u001b[1;33m\u001b[0m\u001b[0m\n\u001b[1;32m-> 1255\u001b[1;33m         \u001b[0mself\u001b[0m\u001b[1;33m.\u001b[0m\u001b[0m_send_request\u001b[0m\u001b[1;33m(\u001b[0m\u001b[0mmethod\u001b[0m\u001b[1;33m,\u001b[0m \u001b[0murl\u001b[0m\u001b[1;33m,\u001b[0m \u001b[0mbody\u001b[0m\u001b[1;33m,\u001b[0m \u001b[0mheaders\u001b[0m\u001b[1;33m,\u001b[0m \u001b[0mencode_chunked\u001b[0m\u001b[1;33m)\u001b[0m\u001b[1;33m\u001b[0m\u001b[1;33m\u001b[0m\u001b[0m\n\u001b[0m\u001b[0;32m   1256\u001b[0m \u001b[1;33m\u001b[0m\u001b[0m\n\u001b[0;32m   1257\u001b[0m     \u001b[1;32mdef\u001b[0m \u001b[0m_send_request\u001b[0m\u001b[1;33m(\u001b[0m\u001b[0mself\u001b[0m\u001b[1;33m,\u001b[0m \u001b[0mmethod\u001b[0m\u001b[1;33m,\u001b[0m \u001b[0murl\u001b[0m\u001b[1;33m,\u001b[0m \u001b[0mbody\u001b[0m\u001b[1;33m,\u001b[0m \u001b[0mheaders\u001b[0m\u001b[1;33m,\u001b[0m \u001b[0mencode_chunked\u001b[0m\u001b[1;33m)\u001b[0m\u001b[1;33m:\u001b[0m\u001b[1;33m\u001b[0m\u001b[1;33m\u001b[0m\u001b[0m\n",
      "\u001b[1;32m~\\anaconda3\\lib\\http\\client.py\u001b[0m in \u001b[0;36m_send_request\u001b[1;34m(self, method, url, body, headers, encode_chunked)\u001b[0m\n\u001b[0;32m   1299\u001b[0m             \u001b[1;31m# default charset of iso-8859-1.\u001b[0m\u001b[1;33m\u001b[0m\u001b[1;33m\u001b[0m\u001b[1;33m\u001b[0m\u001b[0m\n\u001b[0;32m   1300\u001b[0m             \u001b[0mbody\u001b[0m \u001b[1;33m=\u001b[0m \u001b[0m_encode\u001b[0m\u001b[1;33m(\u001b[0m\u001b[0mbody\u001b[0m\u001b[1;33m,\u001b[0m \u001b[1;34m'body'\u001b[0m\u001b[1;33m)\u001b[0m\u001b[1;33m\u001b[0m\u001b[1;33m\u001b[0m\u001b[0m\n\u001b[1;32m-> 1301\u001b[1;33m         \u001b[0mself\u001b[0m\u001b[1;33m.\u001b[0m\u001b[0mendheaders\u001b[0m\u001b[1;33m(\u001b[0m\u001b[0mbody\u001b[0m\u001b[1;33m,\u001b[0m \u001b[0mencode_chunked\u001b[0m\u001b[1;33m=\u001b[0m\u001b[0mencode_chunked\u001b[0m\u001b[1;33m)\u001b[0m\u001b[1;33m\u001b[0m\u001b[1;33m\u001b[0m\u001b[0m\n\u001b[0m\u001b[0;32m   1302\u001b[0m \u001b[1;33m\u001b[0m\u001b[0m\n\u001b[0;32m   1303\u001b[0m     \u001b[1;32mdef\u001b[0m \u001b[0mgetresponse\u001b[0m\u001b[1;33m(\u001b[0m\u001b[0mself\u001b[0m\u001b[1;33m)\u001b[0m\u001b[1;33m:\u001b[0m\u001b[1;33m\u001b[0m\u001b[1;33m\u001b[0m\u001b[0m\n",
      "\u001b[1;32m~\\anaconda3\\lib\\http\\client.py\u001b[0m in \u001b[0;36mendheaders\u001b[1;34m(self, message_body, encode_chunked)\u001b[0m\n\u001b[0;32m   1248\u001b[0m         \u001b[1;32melse\u001b[0m\u001b[1;33m:\u001b[0m\u001b[1;33m\u001b[0m\u001b[1;33m\u001b[0m\u001b[0m\n\u001b[0;32m   1249\u001b[0m             \u001b[1;32mraise\u001b[0m \u001b[0mCannotSendHeader\u001b[0m\u001b[1;33m(\u001b[0m\u001b[1;33m)\u001b[0m\u001b[1;33m\u001b[0m\u001b[1;33m\u001b[0m\u001b[0m\n\u001b[1;32m-> 1250\u001b[1;33m         \u001b[0mself\u001b[0m\u001b[1;33m.\u001b[0m\u001b[0m_send_output\u001b[0m\u001b[1;33m(\u001b[0m\u001b[0mmessage_body\u001b[0m\u001b[1;33m,\u001b[0m \u001b[0mencode_chunked\u001b[0m\u001b[1;33m=\u001b[0m\u001b[0mencode_chunked\u001b[0m\u001b[1;33m)\u001b[0m\u001b[1;33m\u001b[0m\u001b[1;33m\u001b[0m\u001b[0m\n\u001b[0m\u001b[0;32m   1251\u001b[0m \u001b[1;33m\u001b[0m\u001b[0m\n\u001b[0;32m   1252\u001b[0m     def request(self, method, url, body=None, headers={}, *,\n",
      "\u001b[1;32m~\\anaconda3\\lib\\http\\client.py\u001b[0m in \u001b[0;36m_send_output\u001b[1;34m(self, message_body, encode_chunked)\u001b[0m\n\u001b[0;32m   1008\u001b[0m         \u001b[0mmsg\u001b[0m \u001b[1;33m=\u001b[0m \u001b[1;34mb\"\\r\\n\"\u001b[0m\u001b[1;33m.\u001b[0m\u001b[0mjoin\u001b[0m\u001b[1;33m(\u001b[0m\u001b[0mself\u001b[0m\u001b[1;33m.\u001b[0m\u001b[0m_buffer\u001b[0m\u001b[1;33m)\u001b[0m\u001b[1;33m\u001b[0m\u001b[1;33m\u001b[0m\u001b[0m\n\u001b[0;32m   1009\u001b[0m         \u001b[1;32mdel\u001b[0m \u001b[0mself\u001b[0m\u001b[1;33m.\u001b[0m\u001b[0m_buffer\u001b[0m\u001b[1;33m[\u001b[0m\u001b[1;33m:\u001b[0m\u001b[1;33m]\u001b[0m\u001b[1;33m\u001b[0m\u001b[1;33m\u001b[0m\u001b[0m\n\u001b[1;32m-> 1010\u001b[1;33m         \u001b[0mself\u001b[0m\u001b[1;33m.\u001b[0m\u001b[0msend\u001b[0m\u001b[1;33m(\u001b[0m\u001b[0mmsg\u001b[0m\u001b[1;33m)\u001b[0m\u001b[1;33m\u001b[0m\u001b[1;33m\u001b[0m\u001b[0m\n\u001b[0m\u001b[0;32m   1011\u001b[0m \u001b[1;33m\u001b[0m\u001b[0m\n\u001b[0;32m   1012\u001b[0m         \u001b[1;32mif\u001b[0m \u001b[0mmessage_body\u001b[0m \u001b[1;32mis\u001b[0m \u001b[1;32mnot\u001b[0m \u001b[1;32mNone\u001b[0m\u001b[1;33m:\u001b[0m\u001b[1;33m\u001b[0m\u001b[1;33m\u001b[0m\u001b[0m\n",
      "\u001b[1;32m~\\anaconda3\\lib\\http\\client.py\u001b[0m in \u001b[0;36msend\u001b[1;34m(self, data)\u001b[0m\n\u001b[0;32m    948\u001b[0m         \u001b[1;32mif\u001b[0m \u001b[0mself\u001b[0m\u001b[1;33m.\u001b[0m\u001b[0msock\u001b[0m \u001b[1;32mis\u001b[0m \u001b[1;32mNone\u001b[0m\u001b[1;33m:\u001b[0m\u001b[1;33m\u001b[0m\u001b[1;33m\u001b[0m\u001b[0m\n\u001b[0;32m    949\u001b[0m             \u001b[1;32mif\u001b[0m \u001b[0mself\u001b[0m\u001b[1;33m.\u001b[0m\u001b[0mauto_open\u001b[0m\u001b[1;33m:\u001b[0m\u001b[1;33m\u001b[0m\u001b[1;33m\u001b[0m\u001b[0m\n\u001b[1;32m--> 950\u001b[1;33m                 \u001b[0mself\u001b[0m\u001b[1;33m.\u001b[0m\u001b[0mconnect\u001b[0m\u001b[1;33m(\u001b[0m\u001b[1;33m)\u001b[0m\u001b[1;33m\u001b[0m\u001b[1;33m\u001b[0m\u001b[0m\n\u001b[0m\u001b[0;32m    951\u001b[0m             \u001b[1;32melse\u001b[0m\u001b[1;33m:\u001b[0m\u001b[1;33m\u001b[0m\u001b[1;33m\u001b[0m\u001b[0m\n\u001b[0;32m    952\u001b[0m                 \u001b[1;32mraise\u001b[0m \u001b[0mNotConnected\u001b[0m\u001b[1;33m(\u001b[0m\u001b[1;33m)\u001b[0m\u001b[1;33m\u001b[0m\u001b[1;33m\u001b[0m\u001b[0m\n",
      "\u001b[1;32m~\\anaconda3\\lib\\site-packages\\urllib3\\connection.py\u001b[0m in \u001b[0;36mconnect\u001b[1;34m(self)\u001b[0m\n\u001b[0;32m    185\u001b[0m \u001b[1;33m\u001b[0m\u001b[0m\n\u001b[0;32m    186\u001b[0m     \u001b[1;32mdef\u001b[0m \u001b[0mconnect\u001b[0m\u001b[1;33m(\u001b[0m\u001b[0mself\u001b[0m\u001b[1;33m)\u001b[0m\u001b[1;33m:\u001b[0m\u001b[1;33m\u001b[0m\u001b[1;33m\u001b[0m\u001b[0m\n\u001b[1;32m--> 187\u001b[1;33m         \u001b[0mconn\u001b[0m \u001b[1;33m=\u001b[0m \u001b[0mself\u001b[0m\u001b[1;33m.\u001b[0m\u001b[0m_new_conn\u001b[0m\u001b[1;33m(\u001b[0m\u001b[1;33m)\u001b[0m\u001b[1;33m\u001b[0m\u001b[1;33m\u001b[0m\u001b[0m\n\u001b[0m\u001b[0;32m    188\u001b[0m         \u001b[0mself\u001b[0m\u001b[1;33m.\u001b[0m\u001b[0m_prepare_conn\u001b[0m\u001b[1;33m(\u001b[0m\u001b[0mconn\u001b[0m\u001b[1;33m)\u001b[0m\u001b[1;33m\u001b[0m\u001b[1;33m\u001b[0m\u001b[0m\n\u001b[0;32m    189\u001b[0m \u001b[1;33m\u001b[0m\u001b[0m\n",
      "\u001b[1;32m~\\anaconda3\\lib\\site-packages\\urllib3\\connection.py\u001b[0m in \u001b[0;36m_new_conn\u001b[1;34m(self)\u001b[0m\n\u001b[0;32m    157\u001b[0m \u001b[1;33m\u001b[0m\u001b[0m\n\u001b[0;32m    158\u001b[0m         \u001b[1;32mtry\u001b[0m\u001b[1;33m:\u001b[0m\u001b[1;33m\u001b[0m\u001b[1;33m\u001b[0m\u001b[0m\n\u001b[1;32m--> 159\u001b[1;33m             conn = connection.create_connection(\n\u001b[0m\u001b[0;32m    160\u001b[0m                 \u001b[1;33m(\u001b[0m\u001b[0mself\u001b[0m\u001b[1;33m.\u001b[0m\u001b[0m_dns_host\u001b[0m\u001b[1;33m,\u001b[0m \u001b[0mself\u001b[0m\u001b[1;33m.\u001b[0m\u001b[0mport\u001b[0m\u001b[1;33m)\u001b[0m\u001b[1;33m,\u001b[0m \u001b[0mself\u001b[0m\u001b[1;33m.\u001b[0m\u001b[0mtimeout\u001b[0m\u001b[1;33m,\u001b[0m \u001b[1;33m**\u001b[0m\u001b[0mextra_kw\u001b[0m\u001b[1;33m\u001b[0m\u001b[1;33m\u001b[0m\u001b[0m\n\u001b[0;32m    161\u001b[0m             )\n",
      "\u001b[1;32m~\\anaconda3\\lib\\site-packages\\urllib3\\util\\connection.py\u001b[0m in \u001b[0;36mcreate_connection\u001b[1;34m(address, timeout, source_address, socket_options)\u001b[0m\n\u001b[0;32m     72\u001b[0m             \u001b[1;32mif\u001b[0m \u001b[0msource_address\u001b[0m\u001b[1;33m:\u001b[0m\u001b[1;33m\u001b[0m\u001b[1;33m\u001b[0m\u001b[0m\n\u001b[0;32m     73\u001b[0m                 \u001b[0msock\u001b[0m\u001b[1;33m.\u001b[0m\u001b[0mbind\u001b[0m\u001b[1;33m(\u001b[0m\u001b[0msource_address\u001b[0m\u001b[1;33m)\u001b[0m\u001b[1;33m\u001b[0m\u001b[1;33m\u001b[0m\u001b[0m\n\u001b[1;32m---> 74\u001b[1;33m             \u001b[0msock\u001b[0m\u001b[1;33m.\u001b[0m\u001b[0mconnect\u001b[0m\u001b[1;33m(\u001b[0m\u001b[0msa\u001b[0m\u001b[1;33m)\u001b[0m\u001b[1;33m\u001b[0m\u001b[1;33m\u001b[0m\u001b[0m\n\u001b[0m\u001b[0;32m     75\u001b[0m             \u001b[1;32mreturn\u001b[0m \u001b[0msock\u001b[0m\u001b[1;33m\u001b[0m\u001b[1;33m\u001b[0m\u001b[0m\n\u001b[0;32m     76\u001b[0m \u001b[1;33m\u001b[0m\u001b[0m\n",
      "\u001b[1;31mKeyboardInterrupt\u001b[0m: "
     ]
    }
   ],
   "source": [
    "# Cria lista de documentoss cobertos pela paginação do fórum em amostragem de 06/03/2021\n",
    "\n",
    "lista_id_documentos = range(89625,57630,-1)\n",
    "raspa_documentos_lista(lista_id_documentos)"
   ]
  },
  {
   "cell_type": "markdown",
   "metadata": {},
   "source": [
    "## Histograma de distribuição de documentos por tamanho"
   ]
  },
  {
   "cell_type": "code",
   "execution_count": 64,
   "metadata": {},
   "outputs": [],
   "source": [
    "# Cria um histograma formatado em caracteres\n",
    "# ref.: https://gist.github.com/tammoippen\n",
    "def crappyhist(a, bins=10, width=140):\n",
    "    h, b = np.histogram(a, bins)\n",
    "\n",
    "    for i in range (0, bins):\n",
    "        print('{:12.0f}  | {:{width}s} {}'.format(\n",
    "            b[i], \n",
    "            '#'*int(width*h[i]/np.amax(h)), \n",
    "            h[i], \n",
    "            width=width))\n",
    "    print('{:12.0f}  |'.format(b[bins]))"
   ]
  },
  {
   "cell_type": "code",
   "execution_count": null,
   "metadata": {},
   "outputs": [],
   "source": [
    "# Levantamento de tamanho dos arquivos resultantes\n",
    "\n",
    "results = []\n",
    "path = '../data/raspagem'\n",
    "filenames = os.listdir(path)\n",
    "for filename in [f for f in filenames if f.endswith('.txt')]: \n",
    "    fullpath = path + '/' + filename\n",
    "    results.append(os.path.getsize(fullpath))\n",
    "#converte resultado para um numpy array\n",
    "np_results = np.array(results)"
   ]
  },
  {
   "cell_type": "code",
   "execution_count": 67,
   "metadata": {},
   "outputs": [
    {
     "name": "stdout",
     "output_type": "stream",
     "text": [
      "         127  | ################################################################################ 27284\n",
      "        1756  | ####################################################                             17798\n",
      "        3384  | #########################                                                        8607\n",
      "        5013  | #########                                                                        3346\n",
      "        6642  | ###                                                                              1255\n",
      "        8270  | #                                                                                647\n",
      "        9899  |                                                                                  255\n",
      "       11528  |                                                                                  183\n",
      "       13157  |                                                                                  97\n",
      "       14785  |                                                                                  71\n",
      "       16414  |                                                                                  33\n",
      "       18043  |                                                                                  17\n",
      "       19671  |                                                                                  17\n",
      "       21300  |                                                                                  12\n",
      "       22929  |                                                                                  4\n",
      "       24558  |                                                                                  7\n",
      "       26186  |                                                                                  1\n",
      "       27815  |                                                                                  0\n",
      "       29444  |                                                                                  1\n",
      "       31072  |                                                                                  2\n",
      "       32701  |                                                                                  1\n",
      "       34330  |                                                                                  1\n",
      "       35958  |                                                                                  0\n",
      "       37587  |                                                                                  0\n",
      "       39216  |                                                                                  0\n",
      "       40844  |                                                                                  0\n",
      "       42473  |                                                                                  0\n",
      "       44102  |                                                                                  0\n",
      "       45731  |                                                                                  0\n",
      "       47359  |                                                                                  0\n",
      "       48988  |                                                                                  0\n",
      "       50617  |                                                                                  0\n",
      "       52245  |                                                                                  0\n",
      "       53874  |                                                                                  1\n",
      "       55503  |                                                                                  0\n",
      "       57132  |                                                                                  0\n",
      "       58760  |                                                                                  0\n",
      "       60389  |                                                                                  0\n",
      "       62018  |                                                                                  0\n",
      "       63646  |                                                                                  0\n",
      "       65275  |                                                                                  0\n",
      "       66904  |                                                                                  0\n",
      "       68532  |                                                                                  0\n",
      "       70161  |                                                                                  0\n",
      "       71790  |                                                                                  0\n",
      "       73418  |                                                                                  0\n",
      "       75047  |                                                                                  0\n",
      "       76676  |                                                                                  0\n",
      "       78305  |                                                                                  0\n",
      "       79933  |                                                                                  1\n",
      "       81562  |\n"
     ]
    }
   ],
   "source": [
    "##### Mostra histograma em formato caracter\n",
    "crappyhist(np_results, bins=50, width=80)"
   ]
  },
  {
   "cell_type": "code",
   "execution_count": 63,
   "metadata": {},
   "outputs": [
    {
     "data": {
      "image/png": "[encoded data removed]",
      "text/plain": [
       "<Figure size 864x288 with 1 Axes>"
      ]
     },
     "metadata": {
      "needs_background": "light"
     },
     "output_type": "display_data"
    }
   ],
   "source": [
    "# Geração do histograma\n",
    "\n",
    "plt.figure(figsize=(12,4))\n",
    "plt.hist(np_results, bins = np.arange(0,80000,1000), color='navy')\n",
    "plt.suptitle('Distribuição dos documentos por tamanho', fontsize=16)\n",
    "plt.xlabel('Tamanho do documento', fontsize=12)\n",
    "plt.ylabel('Quantidade', fontsize=12)\n",
    "#plt.xlim(xmin=0, xmax = 10000)\n",
    "plt.show()"
   ]
  },
  {
   "cell_type": "code",
   "execution_count": null,
   "metadata": {},
   "outputs": [],
   "source": []
  }
 ],
 "metadata": {
  "kernelspec": {
   "display_name": "Python 3",
   "language": "python",
   "name": "python3"
  },
  "language_info": {
   "codemirror_mode": {
    "name": "ipython",
    "version": 3
   },
   "file_extension": ".py",
   "mimetype": "text/x-python",
   "name": "python",
   "nbconvert_exporter": "python",
   "pygments_lexer": "ipython3",
   "version": "3.8.5"
  }
 },
 "nbformat": 4,
 "nbformat_minor": 4
}
